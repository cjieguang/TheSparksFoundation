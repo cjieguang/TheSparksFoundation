{
 "cells": [
  {
   "cell_type": "markdown",
   "metadata": {},
   "source": [
    "<h3>Task 1: Prediction using Supervised ML</h3>\n",
    "<p>\n",
    "\n",
    "<a href=\"http://bit.ly/w-data\">Link to Data</a>\n",
    "\n",
    "1. Predict <ins>percentage of student body</ins>, based on <ins>number of study hours</ins>\n",
    "\n",
    "2. Predict score if student studies for 9.25 Hours each day\n",
    "\n",
    "</p>\n",
    "\n",
    "<h6>\n",
    "Task Submission:\n",
    "\n",
    "1. Host on Public Git Repo\n",
    "2. Record Code in video, post on youtube\n",
    "3. Share link of code & video, on LinkedIn Profile\n",
    "4. Submit LinkedIn link in task submission form\n",
    "\n",
    "</h6>\n"
   ]
  },
  {
   "cell_type": "code",
   "execution_count": 2,
   "metadata": {},
   "outputs": [],
   "source": [
    "# Imports\n",
    "import pandas as pd\n",
    "import matplotlib.pyplot as plt"
   ]
  }
 ],
 "metadata": {
  "kernelspec": {
   "display_name": "Python 3",
   "language": "python",
   "name": "python3"
  },
  "language_info": {
   "codemirror_mode": {
    "name": "ipython",
    "version": 3
   },
   "file_extension": ".py",
   "mimetype": "text/x-python",
   "name": "python",
   "nbconvert_exporter": "python",
   "pygments_lexer": "ipython3",
   "version": "3.11.0"
  }
 },
 "nbformat": 4,
 "nbformat_minor": 2
}
